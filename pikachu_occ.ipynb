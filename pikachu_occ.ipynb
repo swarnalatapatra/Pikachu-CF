{
 "cells": [
  {
   "cell_type": "markdown",
   "metadata": {},
   "source": [
    "## Importing Packages"
   ]
  },
  {
   "cell_type": "code",
   "execution_count": 260,
   "metadata": {},
   "outputs": [],
   "source": [
    "import cv2\n",
    "import os\n",
    "import random\n",
    "import gc #garbage collector for cleaning deleted data from memory\n",
    "import glob\n",
    "from pathlib import Path\n",
    "\n",
    "import pandas as pd\n",
    "import numpy as np\n",
    "\n",
    "# Importing sklearn libraries\n",
    "from sklearn.model_selection import train_test_split\n",
    "from sklearn.model_selection import GridSearchCV\n",
    "from sklearn.linear_model import LogisticRegression\n",
    "from sklearn.metrics import confusion_matrix, accuracy_score\n",
    "\n",
    "# Importing Keras libraries\n",
    "from keras.utils import np_utils\n",
    "from keras.models import Sequential\n",
    "from keras.applications import VGG16\n",
    "from keras.applications import imagenet_utils\n",
    "from keras.callbacks import ModelCheckpoint\n",
    "from keras.preprocessing.image import load_img\n",
    "from keras.preprocessing.image import img_to_array\n",
    "from keras.layers import Dense, Conv2D, MaxPooling2D, Flatten\n",
    "from keras.layers import Dropout, Flatten, GlobalAveragePooling2D\n",
    " \n",
    "import warnings\n",
    "warnings.filterwarnings('ignore')\n",
    "\n",
    "import matplotlib.pylab as plt\n",
    "%matplotlib inline"
   ]
  },
  {
   "cell_type": "markdown",
   "metadata": {},
   "source": [
    "## Function Definitions"
   ]
  },
  {
   "cell_type": "code",
   "execution_count": 429,
   "metadata": {},
   "outputs": [],
   "source": [
    "# Preprocessing images to get image array and their labels\n",
    "def proc_images(im,lb):\n",
    "    \"\"\"\n",
    "    Returns two arrays: \n",
    "        X is an array of resized images\n",
    "        y is an array of labels\n",
    "    \"\"\"\n",
    "    X = []\n",
    "    y = []\n",
    "\n",
    "    for i in range(len(im)):\n",
    "        X.append(cv2.resize(cv2.imread(im[i],cv2.IMREAD_COLOR), (rows,cols), interpolation=cv2.INTER_CUBIC)) #(128,128,3)\n",
    "        \n",
    "        # 0 for not pikachu and 1 for pikachu images\n",
    "        if('not' in lb[i]):\n",
    "            y.append(0)\n",
    "        else:\n",
    "            y.append(1)\n",
    "    return np.asarray(X),np.asarray(y)\n",
    "\n",
    "# Normalizing the image data\n",
    "def normalize(images):\n",
    "    norm_images = []\n",
    "    for img in images:\n",
    "        norm_img = cv2.normalize(img, None, alpha=0, beta=1, norm_type=cv2.NORM_MINMAX, dtype=cv2.CV_32F)\n",
    "        norm_images.append(norm_img)\n",
    "    return np.asarray(norm_images)\n",
    "\n",
    "# Plot accuracy loss for model history\n",
    "def plot_acc_loss(history):\n",
    "    fig = plt.figure(figsize=(10,5))\n",
    "    plt.subplot(1, 2, 1)\n",
    "    plt.plot(history.history['acc'])\n",
    "    plt.plot(history.history['val_acc'])\n",
    "    plt.title('model accuracy')\n",
    "    plt.ylabel('accuracy')\n",
    "    plt.xlabel('epoch')\n",
    "    plt.legend(['train', 'validation'], loc='upper left')\n",
    " \n",
    "    plt.subplot(1, 2, 2)\n",
    "    plt.plot(history.history['loss'])\n",
    "    plt.plot(history.history['val_loss'])\n",
    "    plt.title('model loss')\n",
    "    plt.ylabel('loss')\n",
    "    plt.xlabel('epoch')\n",
    "    plt.legend(['train', 'test'], loc='upper right')\n",
    "    plt.show()\n",
    "    \n",
    "## Model performance\n",
    "def scores(y_test,test_pred):\n",
    "    TP = FN = FP = TN = 0\n",
    "\n",
    "    for j in range(len(y_test)):\n",
    "        if y_test[j]== 1 and test_pred[j] == 1:\n",
    "            TP = TP+1\n",
    "        elif y_test[j]== 1 and test_pred[j] == 11:\n",
    "            FN = FN+1\n",
    "        elif y_test[j]== 0 and test_pred[j] == 1:\n",
    "            FP = FP+1\n",
    "        else:\n",
    "            TN = TN +1\n",
    "    return TP,FN,FP,TN\n",
    "\n"
   ]
  },
  {
   "cell_type": "markdown",
   "metadata": {},
   "source": [
    "## Data Loading"
   ]
  },
  {
   "cell_type": "code",
   "execution_count": 53,
   "metadata": {},
   "outputs": [
    {
     "name": "stdout",
     "output_type": "stream",
     "text": [
      "C:/Users/Sumi/Desktop/NOTES SEM2/cf_testing-master/pikachu/pikachu_dataset/pikachu/ \n",
      " C:/Users/Sumi/Desktop/NOTES SEM2/cf_testing-master/pikachu/pikachu_dataset/not_pikachu/\n"
     ]
    }
   ],
   "source": [
    "ROOT = 'C:/Users/Sumi/Desktop/NOTES SEM2/cf_testing-master/pikachu/pikachu_dataset/'\n",
    "pik_path = ROOT + 'pikachu/'\n",
    "nopik_path = ROOT + 'not_pikachu/'\n",
    "print(pik_path,\"\\n\",nopik_path)"
   ]
  },
  {
   "cell_type": "code",
   "execution_count": 347,
   "metadata": {},
   "outputs": [],
   "source": [
    "pika_images = []\n",
    "pikanames = []\n",
    "pikalabels = []\n",
    "for file in glob.glob(pik_path + \"*.*g\"):\n",
    "    file = file.replace(\"\\\\\",'/')\n",
    "    pika_images.append(file)\n",
    "    \n",
    "random.shuffle(pika_images)\n",
    "\n",
    "# Splitting the image names and folder names for labelling\n",
    "for i in range(len(pika_images)):\n",
    "    pikanames.append(os.path.basename(pika_images[i]))\n",
    "    pikalabels.append(os.path.dirname(file).split('/')[-1])\n",
    "\n",
    "# len(pika_images) # 483\n",
    "\n",
    "nopika_images = []\n",
    "nopikanames = []\n",
    "nopikalabels = []\n",
    "for file in glob.glob(nopik_path + \"*.*g\"):\n",
    "    file = file.replace(\"\\\\\",'/')\n",
    "    nopika_images.append(file)\n",
    "    \n",
    "random.shuffle(nopika_images)\n",
    "\n",
    "# Splitting the image names and folder names for labelling\n",
    "for i in range(len(nopika_images)):\n",
    "    nopikanames.append(os.path.basename(nopika_images[i]))\n",
    "    nopikalabels.append(os.path.dirname(file).split('/')[-1])\n",
    "\n",
    "# len(nopika_images) # 461\n",
    "\n",
    "all_images = []\n",
    "filenames = []\n",
    "labels = []\n",
    "for file in glob.glob(ROOT + \"*/*.*g\",recursive=True):\n",
    "    file = file.replace(\"\\\\\",'/')\n",
    "    all_images.append(file)\n",
    "\n",
    "# Random shuffling \n",
    "random.shuffle(all_images)\n",
    "\n",
    "# Splitting the image names and folder names for labelling\n",
    "for file in all_images:\n",
    "    filenames.append(os.path.basename(file))\n",
    "    labels.append(os.path.dirname(file).split('/')[-1])"
   ]
  },
  {
   "cell_type": "code",
   "execution_count": 338,
   "metadata": {},
   "outputs": [],
   "source": [
    "# Image dimensions\n",
    "rows = 128\n",
    "cols = 128\n",
    "channels = 3"
   ]
  },
  {
   "cell_type": "code",
   "execution_count": 361,
   "metadata": {},
   "outputs": [
    {
     "name": "stdout",
     "output_type": "stream",
     "text": [
      "\n",
      "All Images:\n",
      "\n",
      "Shape of X: (944, 128, 128, 3) \n",
      "Shape of y: (944,)\n",
      "\n",
      "Pikachu Images:\n",
      "\n",
      "Shape of X1: (483, 128, 128, 3) \n",
      "Shape of y1: (483,)\n",
      "\n",
      "Non Pikachu Images:\n",
      "\n",
      "Shape of X2: (461, 128, 128, 3) \n",
      "Shape of y2: (461,)\n"
     ]
    }
   ],
   "source": [
    "print(\"\\nAll Images:\\n\")\n",
    "# X: images, y: labels (0: not pikachu, 1: pikachu )\n",
    "X, y = proc_images(all_images, labels) \n",
    "print(\"Shape of X:\",X.shape,\"\\nShape of y:\",y.shape)\n",
    "\n",
    "print(\"\\nPikachu Images:\\n\")\n",
    "# X1: pikachu images, y1: labels (1: pikachu ) as all are pikachu images\n",
    "X1,y1 = proc_images(pika_images, pikalabels)\n",
    "print(\"Shape of X1:\",X1.shape,\"\\nShape of y1:\",y1.shape)\n",
    "\n",
    "print(\"\\nNon Pikachu Images:\\n\")\n",
    "# X2: non pikachu images, y2: labels (0: not pikachu ) as all are non pikachu images\n",
    "X2,y2 = proc_images(nopika_images, nopikalabels)\n",
    "print(\"Shape of X2:\",X2.shape,\"\\nShape of y2:\",y2.shape)\n"
   ]
  },
  {
   "cell_type": "markdown",
   "metadata": {},
   "source": [
    "## divide the images into a train and test set\n",
    "\n",
    "Training set: 400 pikachu images : **X_train**\n",
    "\n",
    "Test observations/features: rest pikachu and all non pikachu images : **X_test**\n",
    "\n",
    "Test labels: **y_test**"
   ]
  },
  {
   "cell_type": "code",
   "execution_count": 375,
   "metadata": {},
   "outputs": [
    {
     "name": "stdout",
     "output_type": "stream",
     "text": [
      " Shape of X_train: (400, 128, 128, 3) \n",
      " Shape of X_test: (544, 128, 128, 3) \n",
      " Shape of y_train (400,) \n",
      " Shape of y_test (544,)\n"
     ]
    }
   ],
   "source": [
    "# Once class SVM is trained with the observations of only one class. \n",
    "\n",
    "# In this case, the algorithm is trained with random 400 images of pikachu. \n",
    "# The remaining images of pikachu are merged with the other non pikachu images to create a test set. \n",
    "\n",
    "X_train = X1[0:400]\n",
    "y_train = y1[0:400]\n",
    "\n",
    "X_test = np.concatenate((X1[400:], X2), axis=0)\n",
    "y_test = np.concatenate((y1[400:], y2), axis=0)\n",
    "\n",
    "print(\" Shape of X_train:\",X_train.shape, \"\\n Shape of X_test:\", X_test.shape, \"\\n Shape of y_train\", y_train.shape, \n",
    "      \"\\n Shape of y_test\", y_test.shape)"
   ]
  },
  {
   "cell_type": "code",
   "execution_count": 369,
   "metadata": {},
   "outputs": [
    {
     "data": {
      "text/plain": [
       "<matplotlib.image.AxesImage at 0x1ad9dcb5438>"
      ]
     },
     "execution_count": 369,
     "metadata": {},
     "output_type": "execute_result"
    },
    {
     "data": {
      "image/png": "[encoded data removed]",
      "text/plain": [
       "<Figure size 432x288 with 1 Axes>"
      ]
     },
     "metadata": {
      "needs_background": "light"
     },
     "output_type": "display_data"
    }
   ],
   "source": [
    "plt.imshow(X_train[0])"
   ]
  },
  {
   "cell_type": "markdown",
   "metadata": {},
   "source": [
    "## normalize the data\n"
   ]
  },
  {
   "cell_type": "code",
   "execution_count": 370,
   "metadata": {},
   "outputs": [],
   "source": [
    "# Using the function definition\n",
    "\n",
    "X_train_norm = normalize(X_train)\n",
    "X_test_norm = normalize(X_test)"
   ]
  },
  {
   "cell_type": "code",
   "execution_count": 371,
   "metadata": {},
   "outputs": [
    {
     "data": {
      "image/png": "[encoded data removed]",
      "text/plain": [
       "<Figure size 432x288 with 1 Axes>"
      ]
     },
     "metadata": {
      "needs_background": "light"
     },
     "output_type": "display_data"
    }
   ],
   "source": [
    "from sklearn.decomposition import PCA\n",
    "from sklearn.preprocessing import MinMaxScaler\n",
    "\n",
    "scaler = MinMaxScaler(feature_range=[0, 1])\n",
    "\n",
    "X_train_norm2D = X_train_norm.reshape(X_train_norm.shape[0],128*128*3)\n",
    "X_test_norm2D = X_test_norm.reshape(X_test_norm.shape[0],128*128*3)\n",
    "\n",
    "X_train_scaled = scaler.fit_transform(X_train_norm2D)\n",
    "X_test_scaled = scaler.fit_transform(X_test_norm2D)\n",
    "\n",
    "#Fitting the PCA algorithm with X_train\n",
    "pca = PCA().fit(X_train_scaled)\n",
    "\n",
    "#Plotting the Cumulative Summation of the Explained Variance\n",
    "plt.figure()\n",
    "plt.plot(np.cumsum(pca.explained_variance_ratio_))\n",
    "plt.xlabel('Number of Components')\n",
    "plt.ylabel('Variance (%)') #for each component\n",
    "plt.title('Pulsar Dataset Explained Variance')\n",
    "plt.show()"
   ]
  },
  {
   "cell_type": "code",
   "execution_count": 372,
   "metadata": {},
   "outputs": [],
   "source": [
    "# Choosing no. of importratnt features to proceed further ( > 95% data preserved with that)\n",
    "\n",
    "pca = PCA(n_components=300)\n",
    "X_train_pca = pca.fit_transform(X_train_scaled)\n",
    "X_test_pca = pca.fit_transform(X_test_scaled)\n"
   ]
  },
  {
   "cell_type": "code",
   "execution_count": 373,
   "metadata": {},
   "outputs": [
    {
     "data": {
      "text/plain": [
       "((400, 300), (544, 300), (400,), (544,))"
      ]
     },
     "execution_count": 373,
     "metadata": {},
     "output_type": "execute_result"
    }
   ],
   "source": [
    "X_train_pca.shape, X_test_pca.shape,y_train.shape,y_test.shape"
   ]
  },
  {
   "cell_type": "markdown",
   "metadata": {},
   "source": [
    "## train your classification model based on your extracted features\n"
   ]
  },
  {
   "cell_type": "code",
   "execution_count": 409,
   "metadata": {},
   "outputs": [
    {
     "name": "stdout",
     "output_type": "stream",
     "text": [
      "[[ -1 245]\n",
      " [  1 299]]\n"
     ]
    }
   ],
   "source": [
    "from sklearn import svm\n",
    "\n",
    "# Setting the hyperparameters for Once Class SVM\n",
    "# Other combinations: linear, rbf, poly, gamma- 0.001, 0.0001, nu- 0.25, 0.5, 0.75, 0.95\n",
    "oneclass = svm.OneClassSVM(kernel='linear', gamma=0.0001, nu=0.5)\n",
    "oneclass.fit(X_train_pca)\n",
    "test_pred = oneclass.predict(X_test_pca)\n",
    "unique, counts = np.unique(test_pred, return_counts=True)\n",
    "print (np.asarray((unique, counts)).T)"
   ]
  },
  {
   "cell_type": "markdown",
   "metadata": {},
   "source": [
    "## test it against the test set and get performance scores (accuracy, f1, etc ...)\n"
   ]
  },
  {
   "cell_type": "code",
   "execution_count": 430,
   "metadata": {},
   "outputs": [
    {
     "name": "stdout",
     "output_type": "stream",
     "text": [
      "True Positives: 44 \n",
      "False Negatives: 0 \n",
      "False Positives: 255 \n",
      "True Negatives: 245\n"
     ]
    }
   ],
   "source": [
    "TP,FN,FP,TN = scores(y_test,test_pred)\n",
    "print (\"True Positives:\", TP, \"\\nFalse Negatives:\", FN, \"\\nFalse Positives:\", FP, \"\\nTrue Negatives:\", TN)\n"
   ]
  },
  {
   "cell_type": "code",
   "execution_count": 414,
   "metadata": {},
   "outputs": [
    {
     "name": "stdout",
     "output_type": "stream",
     "text": [
      "\n",
      "Accuracy: 0.53125\n",
      "\n",
      "Sensitivity 1.0\n",
      "\n",
      "Specificity 0.49\n"
     ]
    }
   ],
   "source": [
    "# Performance Matrix\n",
    "\n",
    "accuracy = (TP+TN)/(TP+FN+FP+TN)\n",
    "print (\"\\nAccuracy:\",accuracy)\n",
    "sensitivity = TP/(TP+FN)\n",
    "print (\"\\nSensitivity\",sensitivity)\n",
    "specificity = TN/(TN+FP)\n",
    "print (\"\\nSpecificity\",specificity)"
   ]
  },
  {
   "cell_type": "code",
   "execution_count": 437,
   "metadata": {},
   "outputs": [
    {
     "name": "stdout",
     "output_type": "stream",
     "text": [
      "F1 Score:  0.07678883071553229\n"
     ]
    }
   ],
   "source": [
    "from sklearn.metrics import f1_score\n",
    "f1 = f1_score(y_test, test_pred, average='macro')  \n",
    "print(\"F1 Score: \", f1)"
   ]
  },
  {
   "cell_type": "markdown",
   "metadata": {},
   "source": [
    "## save your trained model as a pickle file\n"
   ]
  },
  {
   "cell_type": "code",
   "execution_count": 417,
   "metadata": {},
   "outputs": [],
   "source": [
    "import pickle\n",
    "# save the model to pickle file\n",
    "filename = 'pikachu.sav'\n",
    "pickle.dump(oneclass, open(filename, 'wb'))"
   ]
  },
  {
   "cell_type": "code",
   "execution_count": 418,
   "metadata": {},
   "outputs": [],
   "source": [
    "# load the model from saved file\n",
    "loaded_model = pickle.load(open(filename, 'rb'))"
   ]
  },
  {
   "cell_type": "markdown",
   "metadata": {},
   "source": [
    "## design your code so that we can later use some external images to test on your saved model (IMPORTANT!)\n"
   ]
  },
  {
   "cell_type": "code",
   "execution_count": null,
   "metadata": {},
   "outputs": [],
   "source": [
    "# To test on other test data \"test_data\"\n",
    "\n",
    "test_output = oneclass.predict(test_data)\n",
    "# 1: pikachu\n",
    "# -1/0: not pikachu"
   ]
  },
  {
   "cell_type": "markdown",
   "metadata": {},
   "source": [
    "## Bonus: k-fold validation"
   ]
  },
  {
   "cell_type": "code",
   "execution_count": 436,
   "metadata": {},
   "outputs": [
    {
     "name": "stdout",
     "output_type": "stream",
     "text": [
      "[0.9921568627450981, 0.9921568627450981, 0.9901960784313726, 0.9901768172888016, 0.9921414538310412, 0.9921414538310412, 0.9901768172888016, 0.9901768172888016, 0.9921414538310412, 0.9901768172888016]\n",
      "0.9911641434569898\n"
     ]
    }
   ],
   "source": [
    "# Using k-fold cross validation here\n",
    "\n",
    "from sklearn.model_selection import KFold\n",
    "\n",
    "fold_scores = []\n",
    "cv = KFold(n_splits=10, random_state=42, shuffle=False)\n",
    "for train_index, test_index in cv.split(X1):\n",
    "    X_train_fold, X_test_fold, y_train_fold, y_test_fold = X1[train_index], np.concatenate((X1[test_index],X2), axis=0), y1[train_index], np.concatenate((y1[test_index],y2), axis=0)\n",
    "    oneclass.fit(X_train_fold.reshape(X_train_fold.shape[0],128*128*3), X_test_fold.reshape(X_test_fold.shape[0],128*128*3))\n",
    "    test_pred_fold = oneclass.predict(X_test_fold.reshape(X_test_fold.shape[0],128*128*3))\n",
    "    TP,FN,FP,TN = scores(y_test_fold,test_pred_fold)\n",
    "    accuracy = (TP+TN)/(TP+FN+FP+TN)\n",
    "    fold_scores.append(accuracy)\n",
    "print(fold_scores)\n",
    "print(np.mean(fold_scores))\n"
   ]
  },
  {
   "cell_type": "code",
   "execution_count": null,
   "metadata": {},
   "outputs": [],
   "source": []
  },
  {
   "cell_type": "code",
   "execution_count": null,
   "metadata": {},
   "outputs": [],
   "source": []
  }
 ],
 "metadata": {
  "kernelspec": {
   "display_name": "Python 3",
   "language": "python",
   "name": "python3"
  },
  "language_info": {
   "codemirror_mode": {
    "name": "ipython",
    "version": 3
   },
   "file_extension": ".py",
   "mimetype": "text/x-python",
   "name": "python",
   "nbconvert_exporter": "python",
   "pygments_lexer": "ipython3",
   "version": "3.6.9"
  },
  "toc": {
   "base_numbering": 1,
   "nav_menu": {},
   "number_sections": true,
   "sideBar": true,
   "skip_h1_title": false,
   "title_cell": "Table of Contents",
   "title_sidebar": "Contents",
   "toc_cell": false,
   "toc_position": {},
   "toc_section_display": true,
   "toc_window_display": false
  }
 },
 "nbformat": 4,
 "nbformat_minor": 2
}
